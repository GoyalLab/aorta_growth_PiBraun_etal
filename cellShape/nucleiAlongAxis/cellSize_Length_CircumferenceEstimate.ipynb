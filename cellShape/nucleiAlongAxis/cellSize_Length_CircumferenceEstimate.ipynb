{
 "cells": [
  {
   "cell_type": "code",
   "execution_count": 2,
   "metadata": {},
   "outputs": [],
   "source": [
    "import numpy as np\n",
    "import pandas as pd\n",
    "import os\n",
    "import skimage\n",
    "import matplotlib.pyplot as plt\n",
    "from os import listdir\n",
    "from os.path import isfile, join\n",
    "from skimage.measure import regionprops_table\n",
    "import cv2\n"
   ]
  },
  {
   "cell_type": "code",
   "execution_count": 10,
   "metadata": {},
   "outputs": [],
   "source": [
    "path = 'results/cellSizeStatistics/cellsAlongAxis/mean/circumference/measurements'\n",
    "dfCellStat = pd.read_csv('results/cellSizeStatistics/allCellShapesUpdate_MicroCTAspect.csv')\n",
    "dfRealMeasurement = pd.read_csv(\"results/general/numberNuc_Area_length_circumFINAL_MicroCT.csv\")"
   ]
  },
  {
   "cell_type": "code",
   "execution_count": 11,
   "metadata": {},
   "outputs": [],
   "source": [
    "dfCellAorta = dfCellStat.groupby(['age', 'aorta']).mean()\n",
    "dfCellAorta = dfCellAorta.reset_index()"
   ]
  },
  {
   "cell_type": "code",
   "execution_count": null,
   "metadata": {},
   "outputs": [],
   "source": [
    "#estimate length by multiplying average major axis by averag number of nuclei along the length axis\n",
    "dfResult = pd.DataFrame()\n",
    "os.chdir(path)\n",
    "files = [f for f in listdir(path) if isfile(join(path, f)) if \".DS_Store\" not in f if \".csv\" in f if \"._\" not in f]\n",
    "for file in files:\n",
    "    age = int(file.split(\"_\")[1].split(\"P\")[-1])\n",
    "    aorta = file.split(\"_\")[-1].split(\"Mean.csv\")[0]\n",
    "    dfNucs = pd.read_csv(join(path, file))\n",
    "    nucs = np.mean(dfNucs['nucs'])\n",
    "    axisLengthMicro = dfCellAorta.loc[(dfCellAorta['age'] == age) & (dfCellAorta['aorta'] == aorta) ]['major_axis_length_Micro'].values[0]\n",
    "    axisLengthMicroCT = dfCellAorta.loc[(dfCellAorta['age'] == age) & (dfCellAorta['aorta'] == aorta) ]['major_axis_length_MicroCT'].values[0]\n",
    "    lengthReal = dfRealMeasurement.loc[(dfCellAorta['age'] == age) & (dfCellAorta['aorta'] == aorta) ]['length'].values[0]\n",
    "    lengthMicroCT = dfRealMeasurement.loc[(dfCellAorta['age'] == age) & (dfCellAorta['aorta'] == aorta) ]['microCTLengthAdjusted'].values[0]\n",
    "    df_help = pd.DataFrame({\"age\": age, \"aorta\": aorta, \"nucsMean\": nucs, \"axisLengthMicro\": axisLengthMicro, \"axisLengthMicroCT\": axisLengthMicroCT,\n",
    "                            \"lengthReal\": lengthReal, \"lengthMicroCT\": lengthMicroCT, \"lengthEstimate_micro\":  axisLengthMicro* nucs, \n",
    "                            \"lengthEstimate_MicroCT\": nucs * axisLengthMicroCT, \"type\": \"lengthMean\" }, index = [0])\n",
    "    dfResult = pd.concat([dfResult, df_help])\n",
    "\n"
   ]
  },
  {
   "cell_type": "code",
   "execution_count": null,
   "metadata": {},
   "outputs": [],
   "source": [
    "dfResult.to_csv(\"results/cellSizeStatistics/cellsAlongAxis/mean/circumference/nucAlongLengthMean.csv\", index = False)"
   ]
  },
  {
   "cell_type": "code",
   "execution_count": null,
   "metadata": {},
   "outputs": [],
   "source": [
    "#estimate circumference by multiplying average minor axis by averag number of nuclei along the circumferential axis\n",
    "dfResult = pd.DataFrame()\n",
    "os.chdir(path)\n",
    "files = [f for f in listdir(path) if isfile(join(path, f)) if \".DS_Store\" not in f if \".csv\" in f if \"._\" not in f]\n",
    "for file in files:\n",
    "    age = int(file.split(\"_\")[1].split(\"P\")[-1])\n",
    "    aorta = file.split(\"_\")[-1].split(\"Mean.csv\")[0]\n",
    "    dfNucs = pd.read_csv(join(path, file))\n",
    "    nucs = np.mean(dfNucs['nucs'])\n",
    "    axisLengthMicro = dfCellAorta.loc[(dfCellAorta['age'] == age) & (dfCellAorta['aorta'] == aorta) ]['minor_axis_length_Micro'].values[0]\n",
    "    circumferenceReal = dfRealMeasurement.loc[(dfCellAorta['age'] == age) & (dfCellAorta['aorta'] == aorta) ]['circumference'].values[0]\n",
    "    df_help = pd.DataFrame({\"age\": age, \"aorta\": aorta, \"nucsMedian\": nucs, \"axisLengthMicro\": axisLengthMicro,\n",
    "                            \"circumferenceReal\": circumferenceReal, \"circumferenceEstimate_micro\":  axisLengthMicro* nucs, \n",
    "                            \"type\": \"circumferenceMean\" }, index = [0])\n",
    "    dfResult = pd.concat([dfResult, df_help])"
   ]
  },
  {
   "cell_type": "code",
   "execution_count": 14,
   "metadata": {},
   "outputs": [],
   "source": [
    "dfResult.to_csv(\"results/cellSizeStatistics/cellsAlongAxis/mean/circumference/nucAlongCircumferenceMean.csv\", index = False)"
   ]
  }
 ],
 "metadata": {
  "kernelspec": {
   "display_name": "Python 3",
   "language": "python",
   "name": "python3"
  },
  "language_info": {
   "codemirror_mode": {
    "name": "ipython",
    "version": 3
   },
   "file_extension": ".py",
   "mimetype": "text/x-python",
   "name": "python",
   "nbconvert_exporter": "python",
   "pygments_lexer": "ipython3",
   "version": "3.8.0"
  },
  "orig_nbformat": 4
 },
 "nbformat": 4,
 "nbformat_minor": 2
}
